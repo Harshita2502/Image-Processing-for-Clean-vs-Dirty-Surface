{
 "cells": [
  {
   "cell_type": "code",
   "execution_count": 1,
   "id": "b5c045e5",
   "metadata": {},
   "outputs": [
    {
     "name": "stdout",
     "output_type": "stream",
     "text": [
      "Training Set:\n",
      "Accuracy: 0.3125\n",
      "Precision: 0.2000\n",
      "Recall: 0.1250\n",
      "F1 Score: 0.1538\n",
      "\n",
      "Testing Set:\n",
      "Accuracy: 0.2500\n",
      "Precision: 0.3333\n",
      "Recall: 0.5000\n",
      "F1 Score: 0.4000\n"
     ]
    },
    {
     "data": {
      "image/png": "[encoded data removed]",
      "text/plain": [
       "<Figure size 720x360 with 4 Axes>"
      ]
     },
     "metadata": {
      "needs_background": "light"
     },
     "output_type": "display_data"
    }
   ],
   "source": [
    "import cv2\n",
    "import os\n",
    "import numpy as np\n",
    "from sklearn.model_selection import train_test_split\n",
    "from sklearn.metrics import confusion_matrix, accuracy_score, precision_score, recall_score, f1_score\n",
    "import matplotlib.pyplot as plt\n",
    "import seaborn as sns\n",
    "\n",
    "def load_dataset(data_dir):\n",
    "    clean_images = []\n",
    "    dirty_images = []\n",
    "    labels = []\n",
    "\n",
    "    for label in [\"clean\", \"dirty\"]:\n",
    "        label_path = os.path.join(data_dir, label)\n",
    "        for filename in os.listdir(label_path):\n",
    "            img_path = os.path.join(label_path, filename)\n",
    "            img = cv2.imread(img_path)\n",
    "            img = cv2.cvtColor(img, cv2.COLOR_BGR2RGB)  # Convert to RGB\n",
    "            img = cv2.resize(img, (64, 64))  # Resize\n",
    "            if label == \"clean\":\n",
    "                clean_images.append(img)\n",
    "                labels.append(0)  \n",
    "            elif label == \"dirty\":\n",
    "                dirty_images.append(img)\n",
    "                labels.append(1)  \n",
    "\n",
    "    return np.array(clean_images), np.array(dirty_images), np.array(labels)\n",
    "\n",
    "def preprocess_images(images):\n",
    "    preprocessed_images = []\n",
    "\n",
    "    for img in images:\n",
    "        # Applying preprocessing techniques\n",
    "        img = img / 255.0\n",
    "        preprocessed_images.append(img)\n",
    "\n",
    "    return np.array(preprocessed_images)\n",
    "\n",
    "def extract_features(images):\n",
    "    # Extract features using simple statistics\n",
    "    features = []\n",
    "    for img in images:\n",
    "        mean = np.mean(img)\n",
    "        std_dev = np.std(img)\n",
    "        features.append([mean, std_dev])\n",
    "\n",
    "    return np.array(features)\n",
    "\n",
    "def train_model(features, labels):\n",
    "    threshold = 0.5\n",
    "    predictions = np.where(features[:, 0] > threshold, 1, 0)\n",
    "    \n",
    "    return predictions\n",
    "\n",
    "def evaluate_model(true_labels, predicted_labels):\n",
    "    accuracy = accuracy_score(true_labels, predicted_labels)\n",
    "    precision = precision_score(true_labels, predicted_labels)\n",
    "    recall = recall_score(true_labels, predicted_labels)\n",
    "    f1 = f1_score(true_labels, predicted_labels)\n",
    "\n",
    "    print(f\"Accuracy: {accuracy:.4f}\")\n",
    "    print(f\"Precision: {precision:.4f}\")\n",
    "    print(f\"Recall: {recall:.4f}\")\n",
    "    print(f\"F1 Score: {f1:.4f}\")\n",
    "\n",
    "if __name__ == \"__main__\":\n",
    "    data_dir = \"val\"  # path of daataset\n",
    "\n",
    "    # Load dataset\n",
    "    clean_images, dirty_images, labels = load_dataset(data_dir)\n",
    "\n",
    "    # Preprocess images\n",
    "    clean_images = preprocess_images(clean_images)\n",
    "    dirty_images = preprocess_images(dirty_images)\n",
    "\n",
    "    # Extract features\n",
    "    clean_features = extract_features(clean_images)\n",
    "    dirty_features = extract_features(dirty_images)\n",
    "\n",
    "    # Combine features and labels\n",
    "    all_data = np.concatenate((clean_features, dirty_features), axis=0)\n",
    "    all_labels = np.concatenate((np.zeros(clean_features.shape[0]), np.ones(dirty_features.shape[0])), axis=0)\n",
    "    \n",
    "    train_data, test_data, train_labels, test_labels = train_test_split(all_data, all_labels, test_size=0.2, random_state=42)\n",
    "\n",
    "    # Train the model\n",
    "    train_predictions = train_model(train_data, train_labels)\n",
    "    test_predictions = train_model(test_data, test_labels)\n",
    "\n",
    "    # Evaluate the model\n",
    "    print(\"Training Set:\")\n",
    "    evaluate_model(train_labels, train_predictions)\n",
    "\n",
    "    print(\"\\nTesting Set:\")\n",
    "    evaluate_model(test_labels, test_predictions)\n",
    "\n",
    "    # Compute confusion matrices\n",
    "    conf_matrix_train = confusion_matrix(train_labels, train_predictions)\n",
    "    conf_matrix_test = confusion_matrix(test_labels, test_predictions)\n",
    "\n",
    "    # Display confusion matrices using matplotlib and seaborn\n",
    "    plt.figure(figsize=(10, 5))\n",
    "\n",
    "    plt.subplot(1, 2, 1)\n",
    "    sns.heatmap(conf_matrix_train, annot=True, fmt=\"d\", cmap=\"Blues\", xticklabels=[\"Clean\", \"Dirty\"], yticklabels=[\"Clean\", \"Dirty\"])\n",
    "    plt.title(\"Confusion Matrix (Training Set)\")\n",
    "    \n",
    "    plt.subplot(1, 2, 2)\n",
    "    sns.heatmap(conf_matrix_test, annot=True, fmt=\"d\", cmap=\"Blues\", xticklabels=[\"Clean\", \"Dirty\"], yticklabels=[\"Clean\", \"Dirty\"])\n",
    "    plt.title(\"Confusion Matrix (Testing Set)\")\n",
    "\n",
    "    plt.show()\n",
    "\n"
   ]
  },
  {
   "cell_type": "code",
   "execution_count": 55,
   "id": "faff1ff8",
   "metadata": {},
   "outputs": [
    {
     "name": "stdout",
     "output_type": "stream",
     "text": [
      "4\n",
      "16\n"
     ]
    }
   ],
   "source": [
    "print(len(test_labels))\n",
    "print(len(train_predictions))\n"
   ]
  },
  {
   "cell_type": "code",
   "execution_count": 56,
   "id": "2dc26482",
   "metadata": {},
   "outputs": [],
   "source": [
    "from sklearn.model_selection import train_test_split\n",
    "\n",
    "# Assuming have a dataset with features and labels\n",
    "\n",
    "# Now using train_test_split\n",
    "train_features, test_features, train_labels, test_labels = train_test_split(\n",
    "    your_features_data, your_labels_data, test_size=0.2, random_state=42\n",
    ")\n"
   ]
  },
  {
   "cell_type": "code",
   "execution_count": 58,
   "id": "0249b847",
   "metadata": {},
   "outputs": [
    {
     "name": "stdout",
     "output_type": "stream",
     "text": [
      "Length of test_labels: 1\n",
      "Length of train_predictions: 16\n"
     ]
    }
   ],
   "source": [
    "print(\"Length of test_labels:\", len(test_labels))\n",
    "print(\"Length of train_predictions:\", len(train_predictions))\n"
   ]
  },
  {
   "cell_type": "code",
   "execution_count": 59,
   "id": "8cc19934",
   "metadata": {},
   "outputs": [],
   "source": [
    "train_features, test_features, train_labels, test_labels = train_test_split(\n",
    "    your_features_data, your_labels_data, test_size=0.2, random_state=42\n",
    ")\n",
    "\n"
   ]
  },
  {
   "cell_type": "code",
   "execution_count": 60,
   "id": "fe999851",
   "metadata": {},
   "outputs": [],
   "source": [
    "def train_model(features, labels):\n",
    "    # Your model training logic here\n",
    "    # Make predictions and return them\n",
    "    return predictions\n"
   ]
  },
  {
   "cell_type": "code",
   "execution_count": 61,
   "id": "7bfbadd7",
   "metadata": {},
   "outputs": [],
   "source": [
    "clean_images, dirty_images, labels = load_dataset(data_dir)\n"
   ]
  },
  {
   "cell_type": "code",
   "execution_count": 62,
   "id": "8540534c",
   "metadata": {},
   "outputs": [],
   "source": [
    "clean_images = preprocess_images(clean_images)\n",
    "dirty_images = preprocess_images(dirty_images)\n"
   ]
  }
 ],
 "metadata": {
  "kernelspec": {
   "display_name": "Python 3",
   "language": "python",
   "name": "python3"
  },
  "language_info": {
   "codemirror_mode": {
    "name": "ipython",
    "version": 3
   },
   "file_extension": ".py",
   "mimetype": "text/x-python",
   "name": "python",
   "nbconvert_exporter": "python",
   "pygments_lexer": "ipython3",
   "version": "3.8.8"
  }
 },
 "nbformat": 4,
 "nbformat_minor": 5
}
